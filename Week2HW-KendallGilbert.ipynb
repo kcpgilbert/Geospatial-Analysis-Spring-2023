{
 "cells": [
  {
   "cell_type": "markdown",
   "id": "8c4c1ac6-c0f9-4cd7-b18c-4b95227a5e19",
   "metadata": {},
   "source": [
    "# Week 02 Homework - Kendall Gilbert"
   ]
  },
  {
   "cell_type": "markdown",
   "id": "d1200d71-07f4-462c-9637-3e0f40217d2a",
   "metadata": {},
   "source": [
    "## Exercise 2.1 - Getting Started with Python\n",
    "The goal of this exercise is to print text like that below to the screen based on variable values you define.\n",
    "\n",
    "```\n",
    "My name is Brianna and I give eating ice cream a score of 9 out of 10!\n",
    "My sleeping enjoyment rating is 8 / 10!\n",
    "Based on the factors above, my happiness rating is 8.5 out of 10 or 85.0 %!\n",
    "```\n",
    "For this exercise you should:\n",
    "\n",
    "- Create three variables: one integer value (whole number) for your ice cream rating, another integer for your sleeping rating, and a character string for your first name. \n",
    "- Calculate the average of the two ratings. Store the result in a variable for your happiness.\n",
    "- Find the data type of each of the variables you have defined. Are there any surprises?\n",
    "- Reproduce your version of the example text using the `print()` function and the variables you have defined. Note that you may need to be careful combining text and numbers!"
   ]
  },
  {
   "cell_type": "markdown",
   "id": "182fb7a6-7bec-4e79-aa9f-a91b1c368f39",
   "metadata": {},
   "source": [
    "The cell below creates the desired variables for this exercise."
   ]
  },
  {
   "cell_type": "code",
   "execution_count": 2,
   "id": "f2604fa2-28c0-4f0b-9cf6-0d37b69267d8",
   "metadata": {},
   "outputs": [],
   "source": [
    "iceCreamRating = 7\n",
    "sleepRating = 10\n",
    "firstName = 'Kendall'\n",
    "happinessRating = (iceCreamRating + sleepRating)/2"
   ]
  },
  {
   "cell_type": "markdown",
   "id": "b9e4bf8e-3513-431a-889e-84895c4792b8",
   "metadata": {},
   "source": [
    "The cell below finds the data types for each of the variables. There are no surprises."
   ]
  },
  {
   "cell_type": "code",
   "execution_count": 3,
   "id": "9d33f15e-3a3e-4b11-9d84-ec478e76ab52",
   "metadata": {},
   "outputs": [
    {
     "data": {
      "text/html": [
       "<div>\n",
       "<style scoped>\n",
       "    .dataframe tbody tr th:only-of-type {\n",
       "        vertical-align: middle;\n",
       "    }\n",
       "\n",
       "    .dataframe tbody tr th {\n",
       "        vertical-align: top;\n",
       "    }\n",
       "\n",
       "    .dataframe thead th {\n",
       "        text-align: right;\n",
       "    }\n",
       "</style>\n",
       "<table border=\"1\" class=\"dataframe\">\n",
       "  <thead>\n",
       "    <tr style=\"text-align: right;\">\n",
       "      <th></th>\n",
       "      <th>iceCreamRating</th>\n",
       "      <th>sleepRating</th>\n",
       "      <th>firstName</th>\n",
       "      <th>happinessRating</th>\n",
       "    </tr>\n",
       "  </thead>\n",
       "  <tbody>\n",
       "    <tr>\n",
       "      <th>Data Type</th>\n",
       "      <td>&lt;class 'int'&gt;</td>\n",
       "      <td>&lt;class 'int'&gt;</td>\n",
       "      <td>&lt;class 'str'&gt;</td>\n",
       "      <td>&lt;class 'float'&gt;</td>\n",
       "    </tr>\n",
       "  </tbody>\n",
       "</table>\n",
       "</div>"
      ],
      "text/plain": [
       "          iceCreamRating    sleepRating      firstName  happinessRating\n",
       "Data Type  <class 'int'>  <class 'int'>  <class 'str'>  <class 'float'>"
      ]
     },
     "metadata": {},
     "output_type": "display_data"
    }
   ],
   "source": [
    "import pandas as pd\n",
    "from pandas import DataFrame\n",
    "\n",
    "info = {'iceCreamRating':[type(iceCreamRating)],'sleepRating':[type(sleepRating)],'firstName':[type(firstName)],'happinessRating':[type(happinessRating)]}\n",
    "table = pd.DataFrame(data=info)\n",
    "table = table.set_index(pd.Index(['Data Type']))\n",
    "display(table)"
   ]
  },
  {
   "cell_type": "markdown",
   "id": "9521ba7c-f422-4788-871a-def1fb706ff8",
   "metadata": {},
   "source": [
    "The cell below prints the desired text."
   ]
  },
  {
   "cell_type": "code",
   "execution_count": 10,
   "id": "067f65fe-40de-4987-8257-49f68ba136c2",
   "metadata": {},
   "outputs": [
    {
     "name": "stdout",
     "output_type": "stream",
     "text": [
      "My name is Kendall and I give eating ice cream a score of 7 out of 10!\n",
      "My sleeping enjoyment rating is 10 / 10!\n",
      "Based on the factors above, my happiness rating is 8.5 out of 10 or 85.0 %!\n"
     ]
    }
   ],
   "source": [
    "print('My name is',firstName,'and I give eating ice cream a score of',iceCreamRating,'out of 10!\\n''My sleeping enjoyment rating is',sleepRating,'/ 10!\\n''Based on the factors above, my happiness rating is',happinessRating,'out of 10 or',happinessRating*10,'%!')\n"
   ]
  },
  {
   "cell_type": "markdown",
   "id": "b8d35094-5174-43a5-862f-4906d70df777",
   "metadata": {},
   "source": [
    "## Exercise 2.2 - Creating and changing lists\n",
    "\n",
    ": _**Table 2.5**. [FMI observation stations](http://en.ilmatieteenlaitos.fi/observation-stations) and the years in which they began operating_.\n",
    "\n",
    "|FMI station name       | First year of operation | Group |\n",
    "|:----------------------|:-----------------------:|:-----:|\n",
    "|lighthouse             | 2003                    | 1     |\n",
    "|Harmaja                | 1989                    | 1     |\n",
    "|Suomenlinna aaltopoiju | 2016                    | 1     |\n",
    "|Kumpula                | 2005                    | 1     |\n",
    "|Kaisaniemi             | 1844                    | 1     |\n",
    "|Malmi airfield         | 1937                    | 2     |\n",
    "|Vuosaari harbour       | 2012                    | 2     |\n",
    "|Kaivopuisto            | 1904                    | 2     |\n",
    "\n",
    "For this exercise you should use the data in Table 2.5 to:\n",
    "\n",
    "- Create two lists for the station names and first years of operation for the stations in Group 1 in Table 2.5. Be sure to list the values in the order they appear in the table.\n",
    "- Modify the lists you just created to add the values Group 2, again keeping them in the same order.\n",
    "- Sort the two lists, sorting the first in alphabetical order and the second so that the most recent starting year is first\n",
    "    - Do you see any problems with how the lists have been sorted?\n",
    "    - Python has a function called `zip()` that might be helpful in solving the sorting issue. Search online to see whether you can find a way to use `zip()` to solve the problem with the two lists."
   ]
  },
  {
   "cell_type": "markdown",
   "id": "95fdd6e7-9b62-45da-9614-a386517e12c5",
   "metadata": {},
   "source": [
    "The cell below creates the lists of station names and first year of operation."
   ]
  },
  {
   "cell_type": "code",
   "execution_count": 26,
   "id": "18c094d9-56a0-44d6-94c1-2be07a91a28e",
   "metadata": {},
   "outputs": [],
   "source": [
    "stationNames = ['lighthouse','Harmaja','Suomenlinna aaltopoiju','Kumpula','Kaisaniemi']\n",
    "firstYrOperation = ['2003','1989','2016','2005','1844']"
   ]
  },
  {
   "cell_type": "markdown",
   "id": "14450610-a208-4a73-8c83-6443f59212d7",
   "metadata": {},
   "source": [
    "The cell below modifies the lists to add the values from Group 2."
   ]
  },
  {
   "cell_type": "code",
   "execution_count": 27,
   "id": "81719b90-410e-40b2-98ad-e20584265da0",
   "metadata": {},
   "outputs": [],
   "source": [
    "stationNames.append('Malmi airfield')\n",
    "stationNames.append('Vuosaari harbour')\n",
    "stationNames.append('Kaivopuisto')\n",
    "firstYrOperation.append('1937')\n",
    "firstYrOperation.append('2012')\n",
    "firstYrOperation.append('1904')"
   ]
  },
  {
   "cell_type": "markdown",
   "id": "df12ba4a-6e87-49bf-85a4-2e2f64a438a8",
   "metadata": {},
   "source": [
    "The cell below sorts the two lists."
   ]
  },
  {
   "cell_type": "code",
   "execution_count": 30,
   "id": "b654f376-91b8-480d-9235-cfb1963292b8",
   "metadata": {},
   "outputs": [
    {
     "name": "stdout",
     "output_type": "stream",
     "text": [
      "['Harmaja', 'Kaisaniemi', 'Kaivopuisto', 'Kumpula', 'Malmi airfield', 'Suomenlinna aaltopoiju', 'Vuosaari harbour', 'lighthouse']\n",
      "['2016', '2012', '2005', '2003', '1989', '1937', '1904', '1844']\n"
     ]
    }
   ],
   "source": [
    "stationNames.sort()\n",
    "firstYrOperation.sort()\n",
    "firstYrOperation.reverse()\n",
    "print(stationNames)\n",
    "print(firstYrOperation)"
   ]
  },
  {
   "cell_type": "markdown",
   "id": "655e8bf8-54df-41f5-89d5-07c0897e6ea1",
   "metadata": {},
   "source": [
    "The sorting of the lists now means that the data in the positions of the list do not correspond to each other. You can use the zip() function, as seen below, to match the name and year in the lists."
   ]
  },
  {
   "cell_type": "code",
   "execution_count": 35,
   "id": "475cdad8-a58d-439b-af10-1d7b651ecac6",
   "metadata": {},
   "outputs": [
    {
     "name": "stdout",
     "output_type": "stream",
     "text": [
      "{('Malmi airfield', '1937'), ('Harmaja', '1989'), ('Kaivopuisto', '1904'), ('lighthouse', '2003'), ('Suomenlinna aaltopoiju', '2016'), ('Kumpula', '2005'), ('Kaisaniemi', '1844'), ('Vuosaari harbour', '2012')}\n"
     ]
    }
   ],
   "source": [
    "stationNames = ['lighthouse','Harmaja','Suomenlinna aaltopoiju','Kumpula','Kaisaniemi']\n",
    "firstYrOperation = ['2003','1989','2016','2005','1844']\n",
    "\n",
    "stationNames.append('Malmi airfield')\n",
    "stationNames.append('Vuosaari harbour')\n",
    "stationNames.append('Kaivopuisto')\n",
    "firstYrOperation.append('1937')\n",
    "firstYrOperation.append('2012')\n",
    "firstYrOperation.append('1904')\n",
    "\n",
    "combinedList = zip(stationNames, firstYrOperation)\n",
    "\n",
    "print(set(combinedList))"
   ]
  },
  {
   "cell_type": "markdown",
   "id": "e45ccabf-7cdd-4c90-bfae-4aae9e5e927a",
   "metadata": {},
   "source": [
    "## Exercise 2.3 - Lists and index values\n",
    "\n",
    ": _**Table 2.6**. [Monthly average temperatures recorded at the Helsinki Malmi airport](https://www.timeanddate.com/weather/finland/helsinki/climate)._\n",
    "\n",
    "|Month     | Temperature (°C) |\n",
    "|:---------|:----------------:|\n",
    "|January   | -3.5             |\n",
    "|February  | -4.5             |\n",
    "|March     | -1.0             |\n",
    "|April     | 4.0              |\n",
    "|May       | 10.0             |\n",
    "|June      | 15.0             |\n",
    "|July      | 18.0             |\n",
    "|August    | 16.0             |\n",
    "|September | 11.5             |\n",
    "|October   | 6.0              |\n",
    "|November  | 2.0              |\n",
    "|December  | -1.5             |\n",
    "\n",
    "For this exercise you should use the data in Table 2.6 to:\n",
    "\n",
    "- Create two lists with the months and their average temperatures.\n",
    "- Use a print statement to produce output like that below, where the months and temperatures are selected using index values in the corresponding lists.\n",
    "\n",
    "```\n",
    "The average temperature in Helsinki in March is -1.0\n",
    "```"
   ]
  },
  {
   "cell_type": "markdown",
   "id": "c55a109e-4b11-4bef-8a78-424632c6220a",
   "metadata": {},
   "source": [
    "The cell below creates the two lists."
   ]
  },
  {
   "cell_type": "code",
   "execution_count": 36,
   "id": "d157da79-a239-4e14-b00f-bd050236a50d",
   "metadata": {},
   "outputs": [],
   "source": [
    "months = ['January','February','March','April','May','June','July','August','September','October','November','December']\n",
    "temperatures = [-3.5,-4.5,-1.0,4.0,10.0,15.0,18.0,16.0,11.5,6.0,2.0,-1.5]"
   ]
  },
  {
   "cell_type": "markdown",
   "id": "bd82341c-1998-4063-9030-87ae764b49d8",
   "metadata": {},
   "source": [
    "The cell below prints the desired statement."
   ]
  },
  {
   "cell_type": "code",
   "execution_count": 37,
   "id": "1b62136a-71ed-4789-b896-5d7000fdfcf6",
   "metadata": {},
   "outputs": [
    {
     "name": "stdout",
     "output_type": "stream",
     "text": [
      "The average temperature in Helsinki in February is -4.5\n"
     ]
    }
   ],
   "source": [
    "print('The average temperature in Helsinki in',months[1],'is',temperatures[1])"
   ]
  },
  {
   "cell_type": "markdown",
   "id": "6852c4dc-dc72-4ed8-83ed-6aaf9b721fba",
   "metadata": {},
   "source": [
    "## Exercise 2.4 - Batch processing files with a `for` loop\n",
    "\n",
    "Batch processing is a common task in Python, where a set of data and/or files are analyzed one after another using the same script or program. In this exercise your goal is to produce a Python list of filenames that could be used to batch process the data they contain.\n",
    "\n",
    "For this exercise you should:\n",
    "\n",
    "- Use a `for` loop to create a Python list that produces the output below when you print the list:\n",
    "\n",
    "    ```\n",
    "    ['Station_0.txt', 'Station_1.txt', 'Station_2.txt', 'Station_3.txt',\n",
    "     'Station_4.txt', 'Station_5.txt', 'Station_6.txt', 'Station_7.txt',\n",
    "     'Station_8.txt', 'Station_9.txt', 'Station_10.txt', 'Station_11.txt',\n",
    "     'Station_12.txt', 'Station_13.txt', 'Station_14.txt', 'Station_15.txt',\n",
    "     'Station_16.txt', 'Station_17.txt', 'Station_18.txt', 'Station_19.txt',\n",
    "     'Station_20.txt']\n",
    "    ```"
   ]
  },
  {
   "cell_type": "markdown",
   "id": "1aa5c963-14fc-4e2b-a00b-590da7542d1f",
   "metadata": {},
   "source": [
    "The cell below creates a for loop to generate the desired list."
   ]
  },
  {
   "cell_type": "code",
   "execution_count": 42,
   "id": "747bde3a-07d8-46d5-af7b-9754212cd7c6",
   "metadata": {},
   "outputs": [
    {
     "name": "stdout",
     "output_type": "stream",
     "text": [
      "['Station_0.txt', 'Station_1.txt', 'Station_2.txt', 'Station_3.txt', 'Station_4.txt', 'Station_5.txt', 'Station_6.txt', 'Station_7.txt', 'Station_8.txt', 'Station_9.txt', 'Station_10.txt', 'Station_11.txt', 'Station_12.txt', 'Station_13.txt', 'Station_14.txt', 'Station_15.txt', 'Station_16.txt', 'Station_17.txt', 'Station_18.txt', 'Station_19.txt', 'Station_20.txt']\n"
     ]
    }
   ],
   "source": [
    "list = []\n",
    "for i in range(21):\n",
    "    number = str(i)\n",
    "    list.append('Station_'+number+'.txt')\n",
    "print(list)"
   ]
  }
 ],
 "metadata": {
  "kernelspec": {
   "display_name": "Python 3 (ipykernel)",
   "language": "python",
   "name": "python3"
  },
  "language_info": {
   "codemirror_mode": {
    "name": "ipython",
    "version": 3
   },
   "file_extension": ".py",
   "mimetype": "text/x-python",
   "name": "python",
   "nbconvert_exporter": "python",
   "pygments_lexer": "ipython3",
   "version": "3.9.15"
  }
 },
 "nbformat": 4,
 "nbformat_minor": 5
}
