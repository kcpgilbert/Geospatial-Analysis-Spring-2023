{
 "cells": [
  {
   "cell_type": "markdown",
   "id": "755d45f9-3d55-4695-aeb2-959e89876d77",
   "metadata": {},
   "source": [
    "# Week 4 Homework Part 1 - Kendall Gilbert"
   ]
  },
  {
   "cell_type": "markdown",
   "id": "828f2487-5a2c-4c64-9550-c11262bfc126",
   "metadata": {},
   "source": [
    "## Exercise 3.3\n",
    "\n",
    "In this Exercise, we will explore our temperature data by comparing spring temperatures between Kumpula and Rovaniemi. To do this we'll use some conditions to extract subsets of our data and then analyse these subsets using basic pandas functions. Notice that in this exercise, we will use data saved from the previous Exercise (2.2.6), hence you should finish that Exercise before this one. An overview of the tasks in this exercise:\n",
    "\n",
    "- Calculate the median temperatures for Kumpula and Rovaniemi for the summer of 2017\n",
    "- Select temperatures for May and June 2017 in separate DataFrames for each location\n",
    "- Calculate descriptive statistics for each month (May, June) and location (Kumpula, Rovaniemi)"
   ]
  },
  {
   "cell_type": "markdown",
   "id": "c998c195-f9d7-4c87-a842-f85705770c72",
   "metadata": {},
   "source": [
    "### Problem 1 - Read the data and calculate basic statistics\n",
    "\n",
    "Read in the CSV files generated in Exercise 2.2.6 to the variables `kumpula` and `rovaniemi` and answer to following questions:\n",
    "\n",
    "- What was the median Celsius temperature during the observed period in Helsinki Kumpula? Store the answer in a variable `kumpula_median`.\n",
    "- What was the median Celsius temperature during the observed period in Rovaniemi? Store the answer in a variable `rovaniemi_median`."
   ]
  },
  {
   "cell_type": "code",
   "execution_count": 11,
   "id": "519037f2-d77e-4ef0-853d-b45dbd006a12",
   "metadata": {},
   "outputs": [
    {
     "name": "stdout",
     "output_type": "stream",
     "text": [
      "The median temperature during the observed period in Helsinki Kumpula was 47.0 .\n",
      "The median temperature during the observed period in Rovaniemi was 36.0 .\n"
     ]
    }
   ],
   "source": [
    "import pandas as pd\n",
    "\n",
    "#Reads in csv files from previous exercise\n",
    "kumpula = pd.read_csv(\"Kumpula_temps_May_Aug_2017.csv\")\n",
    "rovaniemi = pd.read_csv(\"Rovaniemi_temps_May_Aug_2017.csv\")\n",
    "\n",
    "#Calculates and stores median Celsius temperatures from each csv\n",
    "kumpula_median = kumpula[\"Celsius\"].median()\n",
    "rovaniemi_median = rovaniemi[\"Celsius\"].median()\n",
    "\n",
    "print('The median temperature during the observed period in Helsinki Kumpula was', kumpula_median,'.\\nThe median temperature during the observed period in Rovaniemi was',rovaniemi_median,'.')"
   ]
  },
  {
   "cell_type": "markdown",
   "id": "a38f2174-81e3-48fe-b2c2-f62234eb3d7b",
   "metadata": {},
   "source": [
    "### Problem 2 - Select data and compare temperatures between months\n",
    "\n",
    "The median temperatures above consider data from the entire summer (May-Aug), hence the differences might not be so clear. Let's now find out the mean temperatures from May and June 2017 in Kumpula and Rovaniemi:\n",
    "\n",
    "- From the `kumpula` and `rovaniemi` DataFrames, select the rows where values of the `YR--MODAHRMN` column are from May 2017. Assign these selected rows into the variables `kumpula_may` and `rovaniemi_may` \n",
    "- Repeat the procedure for the month of June and assign those values into variables to `kumpula_june` and `rovaniemi_june`\n",
    "- Calculate and print the mean, min and max Celsius temperatures for both places in May and June using the new subset dataframes (kumpula_may, rovaniemi_may, kumpula_june, and rovaniemi_june). Answer to following questions:\n",
    "    - Does there seem to be a large difference in temperatures between the months?\n",
    "    - Is Rovaniemi a much colder place than Kumpula?"
   ]
  },
  {
   "cell_type": "code",
   "execution_count": 12,
   "id": "75c617a5-d5e0-4907-af7b-e1ac0a2f6999",
   "metadata": {},
   "outputs": [
    {
     "data": {
      "text/html": [
       "<style type=\"text/css\">\n",
       "</style>\n",
       "<table id=\"T_1b6f8\">\n",
       "  <caption>Kumpula Temperature Data</caption>\n",
       "  <thead>\n",
       "    <tr>\n",
       "      <th class=\"blank level0\" >&nbsp;</th>\n",
       "      <th id=\"T_1b6f8_level0_col0\" class=\"col_heading level0 col0\" >Mean Celsius Temp</th>\n",
       "      <th id=\"T_1b6f8_level0_col1\" class=\"col_heading level0 col1\" >Min Celsius Temp</th>\n",
       "      <th id=\"T_1b6f8_level0_col2\" class=\"col_heading level0 col2\" >Max Celsius Temp</th>\n",
       "    </tr>\n",
       "  </thead>\n",
       "  <tbody>\n",
       "    <tr>\n",
       "      <th id=\"T_1b6f8_level0_row0\" class=\"row_heading level0 row0\" >May</th>\n",
       "      <td id=\"T_1b6f8_row0_col0\" class=\"data row0 col0\" >31.626181</td>\n",
       "      <td id=\"T_1b6f8_row0_col1\" class=\"data row0 col1\" >-7</td>\n",
       "      <td id=\"T_1b6f8_row0_col2\" class=\"data row0 col2\" >74</td>\n",
       "    </tr>\n",
       "    <tr>\n",
       "      <th id=\"T_1b6f8_level0_row1\" class=\"row_heading level0 row1\" >June</th>\n",
       "      <td id=\"T_1b6f8_row1_col0\" class=\"data row1 col0\" >44.519608</td>\n",
       "      <td id=\"T_1b6f8_row1_col1\" class=\"data row1 col1\" >9</td>\n",
       "      <td id=\"T_1b6f8_row1_col2\" class=\"data row1 col2\" >77</td>\n",
       "    </tr>\n",
       "  </tbody>\n",
       "</table>\n"
      ],
      "text/plain": [
       "<pandas.io.formats.style.Styler at 0x7f3fc02e8ac0>"
      ]
     },
     "metadata": {},
     "output_type": "display_data"
    },
    {
     "name": "stdout",
     "output_type": "stream",
     "text": [
      "\n",
      "\n"
     ]
    },
    {
     "data": {
      "text/html": [
       "<style type=\"text/css\">\n",
       "</style>\n",
       "<table id=\"T_e073a\">\n",
       "  <caption>Rovaniemi Temperature Data</caption>\n",
       "  <thead>\n",
       "    <tr>\n",
       "      <th class=\"blank level0\" >&nbsp;</th>\n",
       "      <th id=\"T_e073a_level0_col0\" class=\"col_heading level0 col0\" >Mean Celsius Temp</th>\n",
       "      <th id=\"T_e073a_level0_col1\" class=\"col_heading level0 col1\" >Min Celsius Temp</th>\n",
       "      <th id=\"T_e073a_level0_col2\" class=\"col_heading level0 col2\" >Max Celsius Temp</th>\n",
       "    </tr>\n",
       "  </thead>\n",
       "  <tbody>\n",
       "    <tr>\n",
       "      <th id=\"T_e073a_level0_row0\" class=\"row_heading level0 row0\" >May</th>\n",
       "      <td id=\"T_e073a_row0_col0\" class=\"data row0 col0\" >9.682883</td>\n",
       "      <td id=\"T_e073a_row0_col1\" class=\"data row0 col1\" >-23</td>\n",
       "      <td id=\"T_e073a_row0_col2\" class=\"data row0 col2\" >49</td>\n",
       "    </tr>\n",
       "    <tr>\n",
       "      <th id=\"T_e073a_level0_row1\" class=\"row_heading level0 row1\" >June</th>\n",
       "      <td id=\"T_e073a_row1_col0\" class=\"data row1 col0\" >35.691584</td>\n",
       "      <td id=\"T_e073a_row1_col1\" class=\"data row1 col1\" >-4</td>\n",
       "      <td id=\"T_e073a_row1_col2\" class=\"data row1 col2\" >76</td>\n",
       "    </tr>\n",
       "  </tbody>\n",
       "</table>\n"
      ],
      "text/plain": [
       "<pandas.io.formats.style.Styler at 0x7f3fbf61fc40>"
      ]
     },
     "metadata": {},
     "output_type": "display_data"
    }
   ],
   "source": [
    "#Creates new column of month in each dataframe\n",
    "kumpula[\"Month\"] = kumpula[\"YR--MODAHRMN\"].astype(str).str.slice(start=4,stop=6)\n",
    "rovaniemi[\"Month\"] = rovaniemi[\"YR--MODAHRMN\"].astype(str).str.slice(start=4,stop=6)\n",
    "\n",
    "#Creates 2 new dataframes of the values from from May for each dataframe\n",
    "kumpula_may = kumpula.loc[(kumpula[\"Month\"] == \"05\")]\n",
    "rovaniemi_may = rovaniemi.loc[(rovaniemi[\"Month\"] == \"05\")]\n",
    "\n",
    "#Creates 2 new dataframes of the values from from June for each dataframe\n",
    "kumpula_june = kumpula.loc[(kumpula[\"Month\"] == \"06\")]\n",
    "rovaniemi_june = rovaniemi.loc[(rovaniemi[\"Month\"] == \"06\")]\n",
    "\n",
    "#Creates a dataframe of desired statistics for kumpula and prints it\n",
    "info_kumpula = {'Mean Celsius Temp':[kumpula_may['Celsius'].mean(),kumpula_june['Celsius'].mean()],'Min Celsius Temp':[kumpula_may['Celsius'].min(),kumpula_june['Celsius'].min()], 'Max Celsius Temp':[kumpula_may['Celsius'].max(),kumpula_june['Celsius'].max()]}\n",
    "table_kumpula = pd.DataFrame(data=info_kumpula)\n",
    "table_kumpula = table_kumpula.set_index(pd.Index(['May','June']))\n",
    "table_kumpula = table_kumpula.style.set_caption('Kumpula Temperature Data')\n",
    "display(table_kumpula)\n",
    "\n",
    "print('\\n')\n",
    "\n",
    "#Creates a dataframe of desired statistics for rovaniemi and prints it\n",
    "info_rovaniemi = {'Mean Celsius Temp':[rovaniemi_may['Celsius'].mean(),rovaniemi_june['Celsius'].mean()],'Min Celsius Temp':[rovaniemi_may['Celsius'].min(),rovaniemi_june['Celsius'].min()], 'Max Celsius Temp':[rovaniemi_may['Celsius'].max(),rovaniemi_june['Celsius'].max()]}\n",
    "table_rovaniemi = pd.DataFrame(data=info_rovaniemi)\n",
    "table_rovaniemi = table_rovaniemi.set_index(pd.Index(['May','June']))\n",
    "table_rovaniemi = table_rovaniemi.style.set_caption('Rovaniemi Temperature Data')\n",
    "display(table_rovaniemi)"
   ]
  },
  {
   "cell_type": "markdown",
   "id": "bbf05b7c-4f49-4c8e-9303-9e6c078fb998",
   "metadata": {},
   "source": [
    "### Answers to Questions\n",
    "\n",
    "There does not seem to be a big  difference in temperature from May to June at Kumpula, but it seems like there is a big difference at Rovaniemi.\n",
    "\n",
    "Yes Rovaniemi is much cooler than Kumpula."
   ]
  },
  {
   "cell_type": "markdown",
   "id": "0e7be559-23e0-422f-8343-fd4aacffd999",
   "metadata": {},
   "source": [
    "### Problem 3 - Parse daily temperatures by aggregating data \n",
    "\n",
    "In this problem, the aim is to aggregate the hourly temperature data for Kumpula and Rovaniemi weather stations to a daily level. Currently, there are at most three measurements per hour in the data, as you can see from the YR--MODAHRMN column:\n",
    "\n",
    "```\n",
    "    USAF  YR--MODAHRMN  TEMP  MAX  MIN  Celsius\n",
    "0  28450  201705010000  31.0  NaN  NaN       -1\n",
    "1  28450  201705010020  30.0  NaN  NaN       -1\n",
    "2  28450  201705010050  30.0  NaN  NaN       -1\n",
    "3  28450  201705010100  31.0  NaN  NaN       -1\n",
    "4  28450  201705010120  30.0  NaN  NaN       -1\n",
    "```\n",
    "\n",
    "In this problem you should:\n",
    "\n",
    "- Summarize the information for each day by aggregating (grouping) the DataFrame using the `groupby()` function.\n",
    "- The output should be a new DataFrame where you have calculated mean, max and min Celsius temperatures for each day separately based on hourly values.\n",
    "- Repeat the task for the two data sets you created in Problem 2 (May-August temperatures from Rovaniemi and Kumpula).\n"
   ]
  },
  {
   "cell_type": "code",
   "execution_count": 13,
   "id": "eac52e2d-e72b-46f8-930d-6832cce8e77e",
   "metadata": {},
   "outputs": [
    {
     "ename": "KeyError",
     "evalue": "'Celsius Min'",
     "output_type": "error",
     "traceback": [
      "\u001b[0;31m---------------------------------------------------------------------------\u001b[0m",
      "\u001b[0;31mKeyError\u001b[0m                                  Traceback (most recent call last)",
      "File \u001b[0;32m/opt/tljh/user/lib/python3.9/site-packages/pandas/core/indexes/base.py:3803\u001b[0m, in \u001b[0;36mIndex.get_loc\u001b[0;34m(self, key, method, tolerance)\u001b[0m\n\u001b[1;32m   3802\u001b[0m \u001b[38;5;28;01mtry\u001b[39;00m:\n\u001b[0;32m-> 3803\u001b[0m     \u001b[38;5;28;01mreturn\u001b[39;00m \u001b[38;5;28;43mself\u001b[39;49m\u001b[38;5;241;43m.\u001b[39;49m\u001b[43m_engine\u001b[49m\u001b[38;5;241;43m.\u001b[39;49m\u001b[43mget_loc\u001b[49m\u001b[43m(\u001b[49m\u001b[43mcasted_key\u001b[49m\u001b[43m)\u001b[49m\n\u001b[1;32m   3804\u001b[0m \u001b[38;5;28;01mexcept\u001b[39;00m \u001b[38;5;167;01mKeyError\u001b[39;00m \u001b[38;5;28;01mas\u001b[39;00m err:\n",
      "File \u001b[0;32m/opt/tljh/user/lib/python3.9/site-packages/pandas/_libs/index.pyx:138\u001b[0m, in \u001b[0;36mpandas._libs.index.IndexEngine.get_loc\u001b[0;34m()\u001b[0m\n",
      "File \u001b[0;32m/opt/tljh/user/lib/python3.9/site-packages/pandas/_libs/index.pyx:165\u001b[0m, in \u001b[0;36mpandas._libs.index.IndexEngine.get_loc\u001b[0;34m()\u001b[0m\n",
      "File \u001b[0;32mpandas/_libs/hashtable_class_helper.pxi:5745\u001b[0m, in \u001b[0;36mpandas._libs.hashtable.PyObjectHashTable.get_item\u001b[0;34m()\u001b[0m\n",
      "File \u001b[0;32mpandas/_libs/hashtable_class_helper.pxi:5753\u001b[0m, in \u001b[0;36mpandas._libs.hashtable.PyObjectHashTable.get_item\u001b[0;34m()\u001b[0m\n",
      "\u001b[0;31mKeyError\u001b[0m: 'Celsius Min'",
      "\nThe above exception was the direct cause of the following exception:\n",
      "\u001b[0;31mKeyError\u001b[0m                                  Traceback (most recent call last)",
      "Cell \u001b[0;32mIn[13], line 8\u001b[0m\n\u001b[1;32m      6\u001b[0m grouped_kumpula_mean \u001b[38;5;241m=\u001b[39m kumpula\u001b[38;5;241m.\u001b[39mgroupby(\u001b[38;5;124m\"\u001b[39m\u001b[38;5;124mYR--MODA\u001b[39m\u001b[38;5;124m\"\u001b[39m)[\u001b[38;5;124m\"\u001b[39m\u001b[38;5;124mCelsius\u001b[39m\u001b[38;5;124m\"\u001b[39m]\u001b[38;5;241m.\u001b[39mmean()\u001b[38;5;241m.\u001b[39mreset_index()\n\u001b[1;32m      7\u001b[0m grouped_kumpula_mean \u001b[38;5;241m=\u001b[39m grouped_kumpula_mean\u001b[38;5;241m.\u001b[39mrename(columns\u001b[38;5;241m=\u001b[39m{\u001b[38;5;124m\"\u001b[39m\u001b[38;5;124mCelsius\u001b[39m\u001b[38;5;124m\"\u001b[39m:\u001b[38;5;124m\"\u001b[39m\u001b[38;5;124mCelsius Mean\u001b[39m\u001b[38;5;124m\"\u001b[39m})\n\u001b[0;32m----> 8\u001b[0m \u001b[43mgrouped_kumpula_mean\u001b[49m\u001b[43m[\u001b[49m\u001b[38;5;124;43m\"\u001b[39;49m\u001b[38;5;124;43mCelsius Min\u001b[39;49m\u001b[38;5;124;43m\"\u001b[39;49m\u001b[43m]\u001b[49m\n\u001b[1;32m     10\u001b[0m grouped_kumpula_min \u001b[38;5;241m=\u001b[39m kumpula\u001b[38;5;241m.\u001b[39mgroupby(\u001b[38;5;124m\"\u001b[39m\u001b[38;5;124mYR--MODA\u001b[39m\u001b[38;5;124m\"\u001b[39m)[\u001b[38;5;124m\"\u001b[39m\u001b[38;5;124mCelsius\u001b[39m\u001b[38;5;124m\"\u001b[39m]\u001b[38;5;241m.\u001b[39mmin()\u001b[38;5;241m.\u001b[39mreset_index()\n\u001b[1;32m     11\u001b[0m grouped_kumpula_min \u001b[38;5;241m=\u001b[39m grouped_kumpula_min\u001b[38;5;241m.\u001b[39mrename(columns\u001b[38;5;241m=\u001b[39m{\u001b[38;5;124m\"\u001b[39m\u001b[38;5;124mCelsius\u001b[39m\u001b[38;5;124m\"\u001b[39m:\u001b[38;5;124m\"\u001b[39m\u001b[38;5;124mCelsius Min\u001b[39m\u001b[38;5;124m\"\u001b[39m})\n",
      "File \u001b[0;32m/opt/tljh/user/lib/python3.9/site-packages/pandas/core/frame.py:3805\u001b[0m, in \u001b[0;36mDataFrame.__getitem__\u001b[0;34m(self, key)\u001b[0m\n\u001b[1;32m   3803\u001b[0m \u001b[38;5;28;01mif\u001b[39;00m \u001b[38;5;28mself\u001b[39m\u001b[38;5;241m.\u001b[39mcolumns\u001b[38;5;241m.\u001b[39mnlevels \u001b[38;5;241m>\u001b[39m \u001b[38;5;241m1\u001b[39m:\n\u001b[1;32m   3804\u001b[0m     \u001b[38;5;28;01mreturn\u001b[39;00m \u001b[38;5;28mself\u001b[39m\u001b[38;5;241m.\u001b[39m_getitem_multilevel(key)\n\u001b[0;32m-> 3805\u001b[0m indexer \u001b[38;5;241m=\u001b[39m \u001b[38;5;28;43mself\u001b[39;49m\u001b[38;5;241;43m.\u001b[39;49m\u001b[43mcolumns\u001b[49m\u001b[38;5;241;43m.\u001b[39;49m\u001b[43mget_loc\u001b[49m\u001b[43m(\u001b[49m\u001b[43mkey\u001b[49m\u001b[43m)\u001b[49m\n\u001b[1;32m   3806\u001b[0m \u001b[38;5;28;01mif\u001b[39;00m is_integer(indexer):\n\u001b[1;32m   3807\u001b[0m     indexer \u001b[38;5;241m=\u001b[39m [indexer]\n",
      "File \u001b[0;32m/opt/tljh/user/lib/python3.9/site-packages/pandas/core/indexes/base.py:3805\u001b[0m, in \u001b[0;36mIndex.get_loc\u001b[0;34m(self, key, method, tolerance)\u001b[0m\n\u001b[1;32m   3803\u001b[0m     \u001b[38;5;28;01mreturn\u001b[39;00m \u001b[38;5;28mself\u001b[39m\u001b[38;5;241m.\u001b[39m_engine\u001b[38;5;241m.\u001b[39mget_loc(casted_key)\n\u001b[1;32m   3804\u001b[0m \u001b[38;5;28;01mexcept\u001b[39;00m \u001b[38;5;167;01mKeyError\u001b[39;00m \u001b[38;5;28;01mas\u001b[39;00m err:\n\u001b[0;32m-> 3805\u001b[0m     \u001b[38;5;28;01mraise\u001b[39;00m \u001b[38;5;167;01mKeyError\u001b[39;00m(key) \u001b[38;5;28;01mfrom\u001b[39;00m \u001b[38;5;21;01merr\u001b[39;00m\n\u001b[1;32m   3806\u001b[0m \u001b[38;5;28;01mexcept\u001b[39;00m \u001b[38;5;167;01mTypeError\u001b[39;00m:\n\u001b[1;32m   3807\u001b[0m     \u001b[38;5;66;03m# If we have a listlike key, _check_indexing_error will raise\u001b[39;00m\n\u001b[1;32m   3808\u001b[0m     \u001b[38;5;66;03m#  InvalidIndexError. Otherwise we fall through and re-raise\u001b[39;00m\n\u001b[1;32m   3809\u001b[0m     \u001b[38;5;66;03m#  the TypeError.\u001b[39;00m\n\u001b[1;32m   3810\u001b[0m     \u001b[38;5;28mself\u001b[39m\u001b[38;5;241m.\u001b[39m_check_indexing_error(key)\n",
      "\u001b[0;31mKeyError\u001b[0m: 'Celsius Min'"
     ]
    }
   ],
   "source": [
    "#Creates a column for each day in kumpula and rovaniemi dataframes\n",
    "kumpula[\"YR--MODA\"] = kumpula[\"YR--MODAHRMN\"].astype(str).str.slice(start=0,stop=8)\n",
    "rovaniemi[\"YR--MODA\"] = rovaniemi[\"YR--MODAHRMN\"].astype(str).str.slice(start=0,stop=8)\n",
    "\n",
    "\n",
    "grouped_kumpula_mean = kumpula.groupby(\"YR--MODA\")[\"Celsius\"].mean().reset_index()\n",
    "grouped_kumpula_mean = grouped_kumpula_mean.rename(columns={\"Celsius\":\"Celsius Mean\"})\n",
    "\n",
    "grouped_kumpula_min = kumpula.groupby(\"YR--MODA\")[\"Celsius\"].min().reset_index()\n",
    "grouped_kumpula_min = grouped_kumpula_min.rename(columns={\"Celsius\":\"Celsius Min\"})\n",
    "\n",
    "grouped_kumpula_max = kumpula.groupby(\"YR--MODA\")[\"Celsius\"].mean().reset_index()\n",
    "grouped_kumpula_max = grouped_kumpula_max.rename(columns={\"Celsius\":\"Celsius Max\"})\n",
    "\n",
    "#grouped_kumpula = {'YR--MODA':[grouped_kumpula_mean[\"YR--MODA\"]],'Mean Celsius':[grouped_kumpula_mean[\"Celsius Mean\"]],'Min Celsius':[grouped_kumpula_min[\"Celsius Min\"]], 'Max Celsius':[grouped_kumpula_max[\"Celsius Max\"]]}\n",
    "\n",
    "#grouped_rovaniemi = rovaniemi.groupby(\"YR--MODA\")[\"Celsius\"].mean().reset_index()\n",
    "#grouped_rovaniemi = grouped_rovaniemi.rename(columns={\"Celsius\":\"Celsius Mean\"})\n",
    "\n"
   ]
  },
  {
   "cell_type": "code",
   "execution_count": 15,
   "id": "9b4f6a64-d0a3-4f6d-9031-cd1d742a1d6c",
   "metadata": {},
   "outputs": [],
   "source": [
    "#Creates a column for each day in kumpula and rovaniemi dataframes\n",
    "kumpula[\"YR--MODA\"] = kumpula[\"YR--MODAHRMN\"].astype(str).str.slice(start=0,stop=8)\n",
    "rovaniemi[\"YR--MODA\"] = rovaniemi[\"YR--MODAHRMN\"].astype(str).str.slice(start=0,stop=8)\n",
    "\n",
    "grouped_kumpula = kumpula.groupby(\"YR--MODA\")\n",
    "grouped_rovaniemi = rovaniemi.groupby(\"YR--MODA\")"
   ]
  },
  {
   "cell_type": "code",
   "execution_count": null,
   "id": "0191bb32-463c-4a8a-b092-e34f0617a972",
   "metadata": {},
   "outputs": [],
   "source": []
  }
 ],
 "metadata": {
  "kernelspec": {
   "display_name": "Python 3 (ipykernel)",
   "language": "python",
   "name": "python3"
  },
  "language_info": {
   "codemirror_mode": {
    "name": "ipython",
    "version": 3
   },
   "file_extension": ".py",
   "mimetype": "text/x-python",
   "name": "python",
   "nbconvert_exporter": "python",
   "pygments_lexer": "ipython3",
   "version": "3.9.15"
  }
 },
 "nbformat": 4,
 "nbformat_minor": 5
}
